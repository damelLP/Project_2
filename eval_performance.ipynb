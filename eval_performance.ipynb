{
 "cells": [
  {
   "cell_type": "code",
   "execution_count": 1,
   "metadata": {},
   "outputs": [
    {
     "name": "stderr",
     "output_type": "stream",
     "text": [
      "/home/t/.virtualenvs/aigames2/lib/python3.6/site-packages/statsmodels/compat/pandas.py:56: FutureWarning: The pandas.core.datetools module is deprecated and will be removed in a future version. Please use the pandas.tseries module instead.\n",
      "  from pandas.core import datetools\n"
     ]
    }
   ],
   "source": [
    "from utils import *\n",
    "import pandas as pd\n",
    "import statsmodels.api as sm"
   ]
  },
  {
   "cell_type": "code",
   "execution_count": 2,
   "metadata": {},
   "outputs": [
    {
     "data": {
      "text/plain": [
       "['DATA 04-05-2018 18.17.26 (Mk1)',\n",
       " 'DATA 04-05-2018 17.24.17 (Mk3)',\n",
       " 'DATA 04-05-2018 17.23.45 (Mk2)',\n",
       " 'DATA 04-05-2018 17.09.46 (Mk1)']"
      ]
     },
     "execution_count": 2,
     "metadata": {},
     "output_type": "execute_result"
    }
   ],
   "source": [
    "mk1, mk2, mk3 = \"Mk1\", \"Mk2\", \"Mk3\"\n",
    "new_xls = pd.ExcelFile(\"ols_data.xls\")\n",
    "old_xls = pd.ExcelFile(\"data14.xls\")\n",
    "old_sheetnames = [sheetname for sheetname in old_xls.sheet_names if \"Follower\" in sheetname and \"Dummy\" not in sheetname]\n",
    "sorted(new_xls.sheet_names, reverse=True)"
   ]
  },
  {
   "cell_type": "code",
   "execution_count": 3,
   "metadata": {},
   "outputs": [],
   "source": [
    "historic_data = get_data_for(mk1, old_xls)\n",
    "new_data = get_data_for(mk1, new_xls, sorted(new_xls.sheet_names))\n",
    "\n",
    "## grab leader and follower prices\n",
    "x, y = get_historic_prices_xy(historic_data)\n",
    "xhat, yhat = get_prices_xy(new_data)\n",
    "\n",
    "## add column of 1's to x values\n",
    "x = sm.add_constant(x)"
   ]
  },
  {
   "cell_type": "markdown",
   "metadata": {},
   "source": [
    "### Moore-Penrose Inverse"
   ]
  },
  {
   "cell_type": "code",
   "execution_count": 7,
   "metadata": {},
   "outputs": [
    {
     "name": "stdout",
     "output_type": "stream",
     "text": [
      "Linear regression using Moore-Penrose inverse\n",
      "parameters: a=0.40 b=1.10\n"
     ]
    }
   ],
   "source": [
    "mpinv = np.linalg.pinv(x)\n",
    "result = mpinv.dot(y)\n",
    "b0 = result[1] ## slope\n",
    "b1 = result[0] ## intercept\n",
    "\n",
    "print('Linear regression using Moore-Penrose inverse')\n",
    "print('parameters: a=%.2f b=%.2f'% (b0,b1))"
   ]
  },
  {
   "cell_type": "code",
   "execution_count": 6,
   "metadata": {},
   "outputs": [
    {
     "data": {
      "image/png": "[encoded data removed]",
      "text/plain": [
       "<Figure size 432x288 with 1 Axes>"
      ]
     },
     "metadata": {},
     "output_type": "display_data"
    }
   ],
   "source": [
    "## plot new data with historic line of best fit. \n",
    "#plotscat(x, y, lambda x: x*b0 + b1)\n",
    "plotscat(xhat, yhat, lambda x: x*b0 + b1)"
   ]
  },
  {
   "cell_type": "code",
   "execution_count": null,
   "metadata": {},
   "outputs": [],
   "source": []
  }
 ],
 "metadata": {
  "kernelspec": {
   "display_name": "Python 3",
   "language": "python",
   "name": "python3"
  },
  "language_info": {
   "codemirror_mode": {
    "name": "ipython",
    "version": 3
   },
   "file_extension": ".py",
   "mimetype": "text/x-python",
   "name": "python",
   "nbconvert_exporter": "python",
   "pygments_lexer": "ipython3",
   "version": "3.6.5"
  }
 },
 "nbformat": 4,
 "nbformat_minor": 2
}
